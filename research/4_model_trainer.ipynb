{
 "cells": [
  {
   "cell_type": "code",
   "execution_count": 1,
   "id": "c1b4aef0",
   "metadata": {},
   "outputs": [],
   "source": [
    "import os\n"
   ]
  },
  {
   "cell_type": "code",
   "execution_count": 2,
   "id": "35c1dbbc",
   "metadata": {},
   "outputs": [
    {
     "data": {
      "text/plain": [
       "'/Users/satwiksahoo/Desktop/CodeBasics/machine learning/krish naik/1st_project/data_science_project/research'"
      ]
     },
     "execution_count": 2,
     "metadata": {},
     "output_type": "execute_result"
    }
   ],
   "source": [
    "%pwd"
   ]
  },
  {
   "cell_type": "code",
   "execution_count": 3,
   "id": "9918f970",
   "metadata": {},
   "outputs": [
    {
     "data": {
      "text/plain": [
       "'/Users/satwiksahoo/Desktop/CodeBasics/machine learning/krish naik/1st_project/data_science_project'"
      ]
     },
     "execution_count": 3,
     "metadata": {},
     "output_type": "execute_result"
    }
   ],
   "source": [
    "os.chdir('../')\n",
    "\n",
    "%pwd"
   ]
  },
  {
   "cell_type": "code",
   "execution_count": 23,
   "id": "f3ed8107",
   "metadata": {},
   "outputs": [],
   "source": [
    "from dataclasses import dataclass\n",
    "from pathlib import Path\n",
    "@dataclass\n",
    "class modeltrainerconfig:\n",
    "    root_dir : Path\n",
    "    train_data_path : Path\n",
    "    test_data_path : Path\n",
    "    model_name : str\n",
    "    alpha : float\n",
    "    l1_ratio : float\n",
    "    target_column : str"
   ]
  },
  {
   "cell_type": "code",
   "execution_count": 24,
   "id": "475331da",
   "metadata": {},
   "outputs": [],
   "source": [
    "from src.datascience.constants import *\n",
    "from src.datascience.utils.common import read_yaml , create_directories\n",
    "\n",
    "class configmanager:\n",
    "    def __init__(self, config_filepath = config_file_path , params_filepath = param_file_path , schema_filepath = schema_file_path):\n",
    "        self.config = read_yaml(config_filepath)\n",
    "        self.params = read_yaml(params_filepath)\n",
    "        self.schema = read_yaml(schema_filepath)\n",
    "        \n",
    "        create_directories([self.config.artifacts_root])\n",
    "\n",
    "\n",
    "\n",
    "    def get_model_trainer(self) -> modeltrainerconfig:\n",
    "        config = self.config.model_trainer\n",
    "        params = self.params.ElasticNet\n",
    "        create_directories([config.root_dir])    \n",
    "        schema  = self.schema.TARGET_COLUMN\n",
    "\n",
    "\n",
    "        modeltrainer_config = modeltrainerconfig(\n",
    "\n",
    "            root_dir =  config.root_dir,\n",
    "            train_data_path = config.train_data_path,\n",
    "            test_data_path = config.test_data_path , \n",
    "            model_name =  config.model_name ,\n",
    "            alpha = params.alpha,\n",
    "            l1_ratio = params.l1_ratio,\n",
    "            target_column = schema.name\n",
    "\n",
    "        )\n",
    "\n",
    "        return modeltrainer_config   "
   ]
  },
  {
   "cell_type": "code",
   "execution_count": 25,
   "id": "0f9bdd40",
   "metadata": {},
   "outputs": [],
   "source": [
    "import os\n",
    "import pandas as pd\n",
    "from src.datascience import logger\n",
    "from sklearn.linear_model import ElasticNet\n",
    "import joblib\n",
    "class model_trainer:\n",
    "\n",
    "    def __init__(self, config: modeltrainerconfig):\n",
    "        self.config = config\n",
    "    \n",
    "\n",
    "    def train(self):\n",
    "\n",
    "        train_data = pd.read_csv(self.config.train_data_path)\n",
    "        test_data = pd.read_csv(self.config.test_data_path)\n",
    "\n",
    "        train_x = train_data.drop([self.config.target_column] , axis = 1)\n",
    "        test_x = test_data.drop([self.config.target_column] , axis = 1)\n",
    "\n",
    "\n",
    "        train_y = train_data[self.config.target_column]\n",
    "        test_y = test_data[self.config.target_column]\n",
    "\n",
    "\n",
    "        lr = ElasticNet(alpha = self.config.alpha  ,l1_ratio = self.config.l1_ratio ,random_state=42)\n",
    "\n",
    "        lr.fit(train_x , train_y)\n",
    "\n",
    "        joblib.dump(lr , os.path.join(self.config.root_dir,self.config.model_name))\n"
   ]
  },
  {
   "cell_type": "code",
   "execution_count": 26,
   "id": "702d1b8b",
   "metadata": {},
   "outputs": [
    {
     "name": "stdout",
     "output_type": "stream",
     "text": [
      "[DEBUG] Trying to load YAML from: /Users/satwiksahoo/Desktop/CodeBasics/machine learning/krish naik/1st_project/data_science_project/config/config.yaml | Exists: True\n",
      "[2025-07-01 13:49:09,251 : INFO : common : YAML file: /Users/satwiksahoo/Desktop/CodeBasics/machine learning/krish naik/1st_project/data_science_project/config/config.yaml loaded successfully.]\n",
      "[DEBUG] Trying to load YAML from: /Users/satwiksahoo/Desktop/CodeBasics/machine learning/krish naik/1st_project/data_science_project/params.yaml | Exists: True\n",
      "[2025-07-01 13:49:09,252 : INFO : common : YAML file: /Users/satwiksahoo/Desktop/CodeBasics/machine learning/krish naik/1st_project/data_science_project/params.yaml loaded successfully.]\n",
      "[DEBUG] Trying to load YAML from: /Users/satwiksahoo/Desktop/CodeBasics/machine learning/krish naik/1st_project/data_science_project/schema.yaml | Exists: True\n",
      "[2025-07-01 13:49:09,254 : INFO : common : YAML file: /Users/satwiksahoo/Desktop/CodeBasics/machine learning/krish naik/1st_project/data_science_project/schema.yaml loaded successfully.]\n",
      "[2025-07-01 13:49:09,255 : INFO : common : Directory created at: artifacts]\n",
      "[2025-07-01 13:49:09,255 : INFO : common : Directory created at: artifacts/model_trainer]\n"
     ]
    }
   ],
   "source": [
    "try:\n",
    "    config = configmanager() \n",
    "    model_trainer_config = config.get_model_trainer()\n",
    "    model_trainer = model_trainer(config=model_trainer_config) \n",
    "    model_trainer.train()\n",
    "\n",
    "\n",
    "\n",
    "   \n",
    "  \n",
    "\n",
    "except Exception as e:\n",
    "   raise e    "
   ]
  },
  {
   "cell_type": "code",
   "execution_count": 8,
   "id": "bffdeee5",
   "metadata": {},
   "outputs": [
    {
     "data": {
      "text/plain": [
       "'/Users/satwiksahoo/Desktop/CodeBasics/machine learning/krish naik/1st_project/data_science_project'"
      ]
     },
     "execution_count": 8,
     "metadata": {},
     "output_type": "execute_result"
    }
   ],
   "source": [
    "%pwd"
   ]
  },
  {
   "cell_type": "code",
   "execution_count": 9,
   "id": "40ef7c16",
   "metadata": {},
   "outputs": [
    {
     "name": "stdout",
     "output_type": "stream",
     "text": [
      "Dockerfile        \u001b[34mconfig\u001b[m\u001b[m/           \u001b[34mresearch\u001b[m\u001b[m/         \u001b[34mtemplates\u001b[m\u001b[m/\n",
      "LICENSE           \u001b[34mlogs\u001b[m\u001b[m/             schema.yaml       \u001b[34mvenv\u001b[m\u001b[m/\n",
      "README.md         main.py           setup.py\n",
      "app.py            params.yaml       \u001b[34msrc\u001b[m\u001b[m/\n",
      "\u001b[34martifacts\u001b[m\u001b[m/        requirements.txt  template.py\n"
     ]
    }
   ],
   "source": [
    "ls"
   ]
  },
  {
   "cell_type": "code",
   "execution_count": null,
   "id": "54bf278c",
   "metadata": {},
   "outputs": [],
   "source": []
  }
 ],
 "metadata": {
  "kernelspec": {
   "display_name": "Python 3",
   "language": "python",
   "name": "python3"
  },
  "language_info": {
   "codemirror_mode": {
    "name": "ipython",
    "version": 3
   },
   "file_extension": ".py",
   "mimetype": "text/x-python",
   "name": "python",
   "nbconvert_exporter": "python",
   "pygments_lexer": "ipython3",
   "version": "3.10.0"
  }
 },
 "nbformat": 4,
 "nbformat_minor": 5
}

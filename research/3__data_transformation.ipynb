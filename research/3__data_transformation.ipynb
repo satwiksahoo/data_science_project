{
 "cells": [
  {
   "cell_type": "code",
   "execution_count": 1,
   "id": "ed5216b6",
   "metadata": {},
   "outputs": [],
   "source": [
    "import pandas as pd"
   ]
  },
  {
   "cell_type": "code",
   "execution_count": 2,
   "id": "02700517",
   "metadata": {},
   "outputs": [],
   "source": [
    "import os"
   ]
  },
  {
   "cell_type": "code",
   "execution_count": 3,
   "id": "cd57f4a7",
   "metadata": {},
   "outputs": [
    {
     "data": {
      "text/plain": [
       "'/Users/satwiksahoo/Desktop/CodeBasics/machine learning/krish naik/1st_project/data_science_project/research'"
      ]
     },
     "execution_count": 3,
     "metadata": {},
     "output_type": "execute_result"
    }
   ],
   "source": [
    "%pwd"
   ]
  },
  {
   "cell_type": "code",
   "execution_count": 5,
   "id": "485b0baf",
   "metadata": {},
   "outputs": [],
   "source": [
    "data = pd.read_csv('artifacts/data_ingestion/winequality-red.csv')"
   ]
  },
  {
   "cell_type": "code",
   "execution_count": 6,
   "id": "f0874a6b",
   "metadata": {},
   "outputs": [
    {
     "data": {
      "text/html": [
       "<div>\n",
       "<style scoped>\n",
       "    .dataframe tbody tr th:only-of-type {\n",
       "        vertical-align: middle;\n",
       "    }\n",
       "\n",
       "    .dataframe tbody tr th {\n",
       "        vertical-align: top;\n",
       "    }\n",
       "\n",
       "    .dataframe thead th {\n",
       "        text-align: right;\n",
       "    }\n",
       "</style>\n",
       "<table border=\"1\" class=\"dataframe\">\n",
       "  <thead>\n",
       "    <tr style=\"text-align: right;\">\n",
       "      <th></th>\n",
       "      <th>fixed acidity</th>\n",
       "      <th>volatile acidity</th>\n",
       "      <th>citric acid</th>\n",
       "      <th>residual sugar</th>\n",
       "      <th>chlorides</th>\n",
       "      <th>free sulfur dioxide</th>\n",
       "      <th>total sulfur dioxide</th>\n",
       "      <th>density</th>\n",
       "      <th>pH</th>\n",
       "      <th>sulphates</th>\n",
       "      <th>alcohol</th>\n",
       "      <th>quality</th>\n",
       "    </tr>\n",
       "  </thead>\n",
       "  <tbody>\n",
       "    <tr>\n",
       "      <th>0</th>\n",
       "      <td>7.4</td>\n",
       "      <td>0.70</td>\n",
       "      <td>0.00</td>\n",
       "      <td>1.9</td>\n",
       "      <td>0.076</td>\n",
       "      <td>11.0</td>\n",
       "      <td>34.0</td>\n",
       "      <td>0.9978</td>\n",
       "      <td>3.51</td>\n",
       "      <td>0.56</td>\n",
       "      <td>9.4</td>\n",
       "      <td>5</td>\n",
       "    </tr>\n",
       "    <tr>\n",
       "      <th>1</th>\n",
       "      <td>7.8</td>\n",
       "      <td>0.88</td>\n",
       "      <td>0.00</td>\n",
       "      <td>2.6</td>\n",
       "      <td>0.098</td>\n",
       "      <td>25.0</td>\n",
       "      <td>67.0</td>\n",
       "      <td>0.9968</td>\n",
       "      <td>3.20</td>\n",
       "      <td>0.68</td>\n",
       "      <td>9.8</td>\n",
       "      <td>5</td>\n",
       "    </tr>\n",
       "    <tr>\n",
       "      <th>2</th>\n",
       "      <td>7.8</td>\n",
       "      <td>0.76</td>\n",
       "      <td>0.04</td>\n",
       "      <td>2.3</td>\n",
       "      <td>0.092</td>\n",
       "      <td>15.0</td>\n",
       "      <td>54.0</td>\n",
       "      <td>0.9970</td>\n",
       "      <td>3.26</td>\n",
       "      <td>0.65</td>\n",
       "      <td>9.8</td>\n",
       "      <td>5</td>\n",
       "    </tr>\n",
       "    <tr>\n",
       "      <th>3</th>\n",
       "      <td>11.2</td>\n",
       "      <td>0.28</td>\n",
       "      <td>0.56</td>\n",
       "      <td>1.9</td>\n",
       "      <td>0.075</td>\n",
       "      <td>17.0</td>\n",
       "      <td>60.0</td>\n",
       "      <td>0.9980</td>\n",
       "      <td>3.16</td>\n",
       "      <td>0.58</td>\n",
       "      <td>9.8</td>\n",
       "      <td>6</td>\n",
       "    </tr>\n",
       "    <tr>\n",
       "      <th>4</th>\n",
       "      <td>7.4</td>\n",
       "      <td>0.70</td>\n",
       "      <td>0.00</td>\n",
       "      <td>1.9</td>\n",
       "      <td>0.076</td>\n",
       "      <td>11.0</td>\n",
       "      <td>34.0</td>\n",
       "      <td>0.9978</td>\n",
       "      <td>3.51</td>\n",
       "      <td>0.56</td>\n",
       "      <td>9.4</td>\n",
       "      <td>5</td>\n",
       "    </tr>\n",
       "  </tbody>\n",
       "</table>\n",
       "</div>"
      ],
      "text/plain": [
       "   fixed acidity  volatile acidity  citric acid  residual sugar  chlorides  \\\n",
       "0            7.4              0.70         0.00             1.9      0.076   \n",
       "1            7.8              0.88         0.00             2.6      0.098   \n",
       "2            7.8              0.76         0.04             2.3      0.092   \n",
       "3           11.2              0.28         0.56             1.9      0.075   \n",
       "4            7.4              0.70         0.00             1.9      0.076   \n",
       "\n",
       "   free sulfur dioxide  total sulfur dioxide  density    pH  sulphates  \\\n",
       "0                 11.0                  34.0   0.9978  3.51       0.56   \n",
       "1                 25.0                  67.0   0.9968  3.20       0.68   \n",
       "2                 15.0                  54.0   0.9970  3.26       0.65   \n",
       "3                 17.0                  60.0   0.9980  3.16       0.58   \n",
       "4                 11.0                  34.0   0.9978  3.51       0.56   \n",
       "\n",
       "   alcohol  quality  \n",
       "0      9.4        5  \n",
       "1      9.8        5  \n",
       "2      9.8        5  \n",
       "3      9.8        6  \n",
       "4      9.4        5  "
      ]
     },
     "execution_count": 6,
     "metadata": {},
     "output_type": "execute_result"
    }
   ],
   "source": [
    "data.head()"
   ]
  },
  {
   "cell_type": "code",
   "execution_count": 44,
   "id": "b4bfcc79",
   "metadata": {},
   "outputs": [],
   "source": [
    "from dataclasses import dataclass\n",
    "from pathlib import Path\n",
    "@dataclass\n",
    "class dataTransformationConfig:\n",
    "    root_dir : Path\n",
    "    data_path : Path"
   ]
  },
  {
   "cell_type": "code",
   "execution_count": 45,
   "id": "3b3f4634",
   "metadata": {},
   "outputs": [],
   "source": [
    "from src.datascience.constants import *\n",
    "from src.datascience.utils.common import read_yaml , create_directories\n",
    "\n",
    "class configmanager:\n",
    "    def __init__(self, config_filepath = config_file_path , params_filepath = param_file_path , schema_filepath = schema_file_path):\n",
    "        self.config = read_yaml(config_filepath)\n",
    "        self.param = read_yaml(params_filepath)\n",
    "        self.schema = read_yaml(schema_filepath)\n",
    "        \n",
    "        create_directories([self.config.artifacts_root])\n",
    "\n",
    "\n",
    "\n",
    "    def get_data_transformation(self) -> dataTransformationConfig:\n",
    "        config = self.config.data_transformation\n",
    "        schema  = self.schema.COLUMNS\n",
    "        create_directories([config.root_dir])    \n",
    "\n",
    "\n",
    "        datatransformation_config = dataTransformationConfig(\n",
    "\n",
    "            root_dir  = config.root_dir,\n",
    "            data_path= config.data_path\n",
    "\n",
    "        )\n",
    "\n",
    "        return datatransformation_config   "
   ]
  },
  {
   "cell_type": "code",
   "execution_count": 46,
   "id": "8964bff0",
   "metadata": {},
   "outputs": [],
   "source": [
    "import os\n",
    "import pandas as pd\n",
    "from src.datascience import logger\n",
    "from sklearn.model_selection import train_test_split\n",
    "class data_transformation:\n",
    "\n",
    "    def __init__(self, config: dataTransformationConfig):\n",
    "        self.config = config\n",
    "\n",
    "\n",
    "    # def train_test_splitting(self):\n",
    "    #     data = pd.read_csv(self.config.data_path)\n",
    "\n",
    "    def train_test_splitting(self):\n",
    "        try:\n",
    "            # Load the dataset\n",
    "            data = pd.read_csv(self.config.data_path)\n",
    "            logger.info(f\"Loaded data from {self.config.data_path} with shape {data.shape}\")\n",
    "\n",
    "            # Train-test split\n",
    "            train, test = train_test_split(data)\n",
    "\n",
    "            # Ensure directories exist\n",
    "            train.to_csv(os.path.join(self.config.root_dir , \"train.csv\"), index=False)\n",
    "            test.to_csv(os.path.join(self.config.root_dir , \"test.csv\"), index=False)\n",
    "\n",
    "            \n",
    "\n",
    "        \n",
    "\n",
    "            logger.info(f\"Train-test split done. Train shape: {train.shape}, Test shape: {test.shape}\")\n",
    "            return train, test\n",
    "\n",
    "        except Exception as e:\n",
    "            logger.exception(\"Error occurred during train-test split\")\n",
    "            raise e\n"
   ]
  },
  {
   "cell_type": "code",
   "execution_count": 47,
   "id": "950989f0",
   "metadata": {},
   "outputs": [
    {
     "name": "stdout",
     "output_type": "stream",
     "text": [
      "[DEBUG] Trying to load YAML from: /Users/satwiksahoo/Desktop/CodeBasics/machine learning/krish naik/1st_project/data_science_project/config/config.yaml | Exists: True\n",
      "[2025-06-30 19:41:48,766 : INFO : common : YAML file: /Users/satwiksahoo/Desktop/CodeBasics/machine learning/krish naik/1st_project/data_science_project/config/config.yaml loaded successfully.]\n",
      "[DEBUG] Trying to load YAML from: /Users/satwiksahoo/Desktop/CodeBasics/machine learning/krish naik/1st_project/data_science_project/params.yaml | Exists: True\n",
      "[2025-06-30 19:41:48,768 : INFO : common : YAML file: /Users/satwiksahoo/Desktop/CodeBasics/machine learning/krish naik/1st_project/data_science_project/params.yaml loaded successfully.]\n",
      "[DEBUG] Trying to load YAML from: /Users/satwiksahoo/Desktop/CodeBasics/machine learning/krish naik/1st_project/data_science_project/schema.yaml | Exists: True\n",
      "[2025-06-30 19:41:48,769 : INFO : common : YAML file: /Users/satwiksahoo/Desktop/CodeBasics/machine learning/krish naik/1st_project/data_science_project/schema.yaml loaded successfully.]\n",
      "[2025-06-30 19:41:48,771 : INFO : common : Directory created at: artifacts]\n",
      "[2025-06-30 19:41:48,771 : INFO : common : Directory created at: artifacts/data_transformation]\n",
      "[2025-06-30 19:41:48,795 : INFO : 3876598309 : Loaded data from artifacts/data_ingestion/winequality-red.csv with shape (1599, 12)]\n",
      "[2025-06-30 19:41:48,819 : INFO : 3876598309 : Train-test split done. Train shape: (1199, 12), Test shape: (400, 12)]\n"
     ]
    }
   ],
   "source": [
    "try:\n",
    "    config = configmanager() \n",
    "    data_transformation_config = config.get_data_transformation()\n",
    "    data_transformation = data_transformation(config=data_transformation_config) \n",
    "    data_transformation.train_test_splitting()\n",
    "\n",
    "\n",
    "\n",
    "   \n",
    "  \n",
    "\n",
    "except Exception as e:\n",
    "   raise e    "
   ]
  },
  {
   "cell_type": "code",
   "execution_count": null,
   "id": "f21be1aa",
   "metadata": {},
   "outputs": [],
   "source": []
  }
 ],
 "metadata": {
  "kernelspec": {
   "display_name": "Python 3",
   "language": "python",
   "name": "python3"
  },
  "language_info": {
   "codemirror_mode": {
    "name": "ipython",
    "version": 3
   },
   "file_extension": ".py",
   "mimetype": "text/x-python",
   "name": "python",
   "nbconvert_exporter": "python",
   "pygments_lexer": "ipython3",
   "version": "3.10.0"
  }
 },
 "nbformat": 4,
 "nbformat_minor": 5
}

{
 "cells": [
  {
   "cell_type": "code",
   "execution_count": 125,
   "id": "bd56a888",
   "metadata": {},
   "outputs": [
    {
     "name": "stdout",
     "output_type": "stream",
     "text": [
      "Now in: /Users/satwiksahoo/Desktop/CodeBasics/machine learning/krish naik/1st_project/data_science_project\n"
     ]
    }
   ],
   "source": [
    "import os\n",
    "from pathlib import Path\n",
    "\n",
    "path = Path.home() / \"Desktop\" / \"CodeBasics\" / \"machine learning\" / \"krish naik\" / \"1st_project\" / \"data_science_project\"\n",
    "os.chdir(path)\n",
    "print(\"Now in:\", os.getcwd())\n"
   ]
  },
  {
   "cell_type": "code",
   "execution_count": 126,
   "id": "b2628102",
   "metadata": {},
   "outputs": [],
   "source": [
    "from dataclasses import dataclass\n",
    "from pathlib import Path\n",
    "\n",
    "@dataclass\n",
    "\n",
    "class data_ingestion_config:\n",
    "    root_dir : Path\n",
    "    source_url : str\n",
    "    local_data_file : str\n",
    "    unzip_dir : Path\n"
   ]
  },
  {
   "cell_type": "code",
   "execution_count": 127,
   "id": "b34db9b0",
   "metadata": {},
   "outputs": [],
   "source": [
    "from src.datascience.constants import *\n",
    "from src.datascience.utils.common import read_yaml , create_directories\n",
    "\n",
    "class configmanager:\n",
    "    def __init__(self, config_filepath = config_file_path , params_filepath = param_file_path , schema_filepath = schema_file_path):\n",
    "        self.config = read_yaml(config_filepath)\n",
    "        self.param = read_yaml(params_filepath)\n",
    "        self.schema = read_yaml(schema_filepath)\n",
    "        \n",
    "        create_directories([self.config.artifacts_root])\n",
    "\n",
    "    def get_data_ingestion_config(self) -> data_ingestion_config:\n",
    "        config = self.config.data_ingestion\n",
    "        create_directories([config.root_dir])    \n",
    "\n",
    "\n",
    "        dataingestion_config = data_ingestion_config(\n",
    "\n",
    "            root_dir  = config.root_dir,\n",
    "            source_url = config.source_url ,\n",
    "            local_data_file = config.local_data_file ,\n",
    "            unzip_dir = config.unzip_dir\n",
    "\n",
    "        )\n",
    "\n",
    "        return dataingestion_config"
   ]
  },
  {
   "cell_type": "code",
   "execution_count": 128,
   "id": "fafd3145",
   "metadata": {},
   "outputs": [],
   "source": [
    "import urllib.request as requests\n",
    "import os\n",
    "from src.datascience import logger\n",
    "import zipfile \n",
    "\n",
    "import mimetypes\n",
    "import requests\n",
    "\n",
    "class data_ingestion:\n",
    "\n",
    "    def __init__(self , config: data_ingestion_config):\n",
    "        self.config = config\n",
    "\n",
    "\n",
    "    def download_file(self):\n",
    "     if not os.path.exists(self.config.local_data_file):\n",
    "        headers = {\n",
    "            \"User-Agent\": \"Mozilla/5.0 (Macintosh; Intel Mac OS X 10_15_7) AppleWebKit/537.36 (KHTML, like Gecko) Chrome/118.0.5993.117 Safari/537.36\"\n",
    "        }\n",
    "\n",
    "        response = requests.get(self.config.source_url, headers=headers, stream=True, allow_redirects=True)\n",
    "\n",
    "        # Check response\n",
    "        content_type = response.headers.get(\"Content-Type\", \"\")\n",
    "        if \"zip\" not in content_type:\n",
    "            raise ValueError(f\"Expected a zip file but got content-type: {content_type}\")\n",
    "\n",
    "        os.makedirs(os.path.dirname(self.config.local_data_file), exist_ok=True)\n",
    "        with open(self.config.local_data_file, \"wb\") as f:\n",
    "            for chunk in response.iter_content(chunk_size=8192):\n",
    "                if chunk:\n",
    "                    f.write(chunk)\n",
    "\n",
    "        logger.info(f\"Downloaded ZIP to {self.config.local_data_file}\")\n",
    "\n",
    "     else:\n",
    "        logger.info(f\"{self.config.local_data_file} already exists\")    \n",
    "\n",
    "\n",
    "\n",
    "\n",
    "    # def download_file(self):\n",
    "    #     if not os.path.exists(self.config.local_data_file):\n",
    "    #         filename , header = requests.urlretrieve(\n",
    "    #             url = self.config.source_url,\n",
    "    #             filename=self.config.local_data_file\n",
    "    #         )\n",
    "    #         logger.info(f'{filename} download with following info {header} !')\n",
    "\n",
    "    #     else:\n",
    "    #         logger.info(f'file already exists')    \n",
    "\n",
    "    def extract_zip_file(self):\n",
    "        unzip_path = self.config.unzip_dir\n",
    "        os.makedirs(unzip_path , exist_ok=True)\n",
    "        with zipfile.ZipFile(self.config.local_data_file , 'r')  as zip_ref:\n",
    "            zip_ref.extractall(unzip_path)    "
   ]
  },
  {
   "cell_type": "code",
   "execution_count": 129,
   "id": "9399e488",
   "metadata": {},
   "outputs": [
    {
     "name": "stdout",
     "output_type": "stream",
     "text": [
      "[2025-06-29 13:55:10,581 : INFO : common : YAML file: config/config.yaml loaded successfully.]\n",
      "[2025-06-29 13:55:10,583 : INFO : common : YAML file: params.yaml loaded successfully.]\n",
      "[2025-06-29 13:55:10,584 : INFO : common : YAML file: schema.yaml loaded successfully.]\n",
      "[2025-06-29 13:55:10,584 : INFO : common : Directory created at: artifacts]\n",
      "[2025-06-29 13:55:10,584 : INFO : common : Directory created at: artifacts/data_ingestion]\n",
      "[2025-06-29 13:55:12,833 : INFO : 2706430546 : Downloaded ZIP to artifacts/data_ingestion/data.zip]\n"
     ]
    }
   ],
   "source": [
    "try:\n",
    "    config = configmanager() \n",
    "    data_ingestion_config = config.get_data_ingestion_config()\n",
    "    data_ingestion = data_ingestion(config=data_ingestion_config) \n",
    "    data_ingestion.download_file()\n",
    "    data_ingestion.extract_zip_file()\n",
    "\n",
    "except Exception as e:\n",
    "   raise e    \n",
    "\n",
    "\n",
    "\n"
   ]
  },
  {
   "cell_type": "code",
   "execution_count": null,
   "id": "328efb62",
   "metadata": {},
   "outputs": [],
   "source": []
  }
 ],
 "metadata": {
  "kernelspec": {
   "display_name": "Python 3",
   "language": "python",
   "name": "python3"
  },
  "language_info": {
   "codemirror_mode": {
    "name": "ipython",
    "version": 3
   },
   "file_extension": ".py",
   "mimetype": "text/x-python",
   "name": "python",
   "nbconvert_exporter": "python",
   "pygments_lexer": "ipython3",
   "version": "3.10.0"
  }
 },
 "nbformat": 4,
 "nbformat_minor": 5
}

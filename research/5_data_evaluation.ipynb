{
 "cells": [
  {
   "cell_type": "code",
   "execution_count": 1,
   "id": "5fe5dbea",
   "metadata": {},
   "outputs": [],
   "source": [
    "import os\n",
    "\n",
    "os.environ['ML_FLOW_TRACKING_URI'] = 'https://dagshub.com/satwiksahoojob/data_science_project.mlflow'\n",
    "os.environ['ML_FLOW_TRACKING_USERNAME'] = 'satwiksahoojob'\n",
    "\n",
    "os.environ['ML_FLOW_TRACKING_PASSWORD'] =  '46df081cd1c771ae5c58838602b17d7d7c7de746'"
   ]
  },
  {
   "cell_type": "code",
   "execution_count": 4,
   "id": "c3cbaf89",
   "metadata": {},
   "outputs": [
    {
     "data": {
      "text/plain": [
       "'/Users/satwiksahoo/Desktop/CodeBasics/machine learning/krish naik/1st_project/data_science_project'"
      ]
     },
     "execution_count": 4,
     "metadata": {},
     "output_type": "execute_result"
    }
   ],
   "source": [
    "import os \n",
    "\n",
    "%pwd"
   ]
  },
  {
   "cell_type": "code",
   "execution_count": 18,
   "id": "016a6726",
   "metadata": {},
   "outputs": [],
   "source": [
    "from dataclasses import dataclass\n",
    "from pathlib import Path\n",
    "@dataclass\n",
    "class modelevaluationconfig:\n",
    "    root_dir : Path\n",
    "    \n",
    "    test_data_path : Path\n",
    "    model_path: Path\n",
    "    all_params : dict\n",
    "    metric_file_name : Path\n",
    "    target_column : str\n",
    "    mlflow_uri : str"
   ]
  },
  {
   "cell_type": "code",
   "execution_count": 19,
   "id": "0713e48a",
   "metadata": {},
   "outputs": [],
   "source": [
    "from src.datascience.constants import *\n",
    "from src.datascience.utils.common import read_yaml , create_directories\n",
    "\n",
    "class configmanager:\n",
    "    def __init__(self, config_filepath = config_file_path , params_filepath = param_file_path , schema_filepath = schema_file_path):\n",
    "        self.config = read_yaml(config_filepath)\n",
    "        self.params = read_yaml(params_filepath)\n",
    "        self.schema = read_yaml(schema_filepath)\n",
    "        \n",
    "        create_directories([self.config.artifacts_root])\n",
    "\n",
    "\n",
    "    def get_model_evaluation_config(self) -> modelevaluationconfig:\n",
    "        config = self.config.model_evaluation\n",
    "        params = self.params.ElasticNet\n",
    "        create_directories([config.root_dir])    \n",
    "        schema  = self.schema.TARGET_COLUMN\n",
    "\n",
    "\n",
    "        modelevaluation_config = modelevaluationconfig(\n",
    "\n",
    "            root_dir =  config.root_dir,\n",
    "            \n",
    "            test_data_path = config.test_data_path , \n",
    "            model_path =  config.model_path ,\n",
    "            all_params = params,\n",
    "            metric_file_name = config.metric_file_name,\n",
    "            target_column = schema.name,\n",
    "            mlflow_uri = 'https://dagshub.com/satwiksahoojob/data_science_project.mlflow' \n",
    "\n",
    "        )\n",
    "\n",
    "        return modelevaluation_config           "
   ]
  },
  {
   "cell_type": "code",
   "execution_count": 20,
   "id": "19749646",
   "metadata": {},
   "outputs": [],
   "source": [
    "import os\n",
    "import pandas as pd\n",
    "from src.datascience import logger\n",
    "from sklearn.metrics import mean_squared_error , mean_absolute_error , r2_score\n",
    "from urllib.parse import urlparse\n",
    "import joblib\n",
    "import mlflow\n",
    "import mlflow.sklearn\n",
    "import numpy as np\n",
    "from sklearn.linear_model import ElasticNet\n",
    "import json\n",
    "from src.datascience.utils.common import save_json\n",
    "\n",
    "\n",
    "class model_evaluation:\n",
    "\n",
    "    def __init__(self, config: modelevaluationconfig):\n",
    "        self.config = config\n",
    "\n",
    "    def evaluation_metric(self, actual, pred):\n",
    "\n",
    "        rmse = np.sqrt(mean_squared_error(actual , pred))\n",
    "        mae = mean_absolute_error(actual , pred)\n",
    "        r2  = r2_score(actual , pred)\n",
    "\n",
    "        return rmse , mae , r2\n",
    "    \n",
    "\n",
    "    def log_into_mlflow(self):\n",
    "\n",
    "        test_data = pd.read_csv(self.config.test_data_path)\n",
    "        model = joblib.load(self.config.model_path)\n",
    "\n",
    "        test_x  =test_data.drop([self.config.target_column] ,axis=1)\n",
    "        test_y  =test_data[self.config.target_column]\n",
    "\n",
    "\n",
    "        mlflow.set_registry_uri(self.config.mlflow_uri)\n",
    "        tracking_uri_type_store = urlparse(mlflow.get_tracking_uri()).scheme \n",
    "\n",
    "\n",
    "        with mlflow.start_run():  # 🟢 Start MLflow run\n",
    "\n",
    "    # Initialize and train model\n",
    "        #  model = ElasticNet(alpha=self.params.alpha, l1_ratio=self.params.l1_ratio, random_state=42)\n",
    "        #  model.fit(X_train, y_train)\n",
    "\n",
    "    # Predict and evaluate\n",
    "         preds = model.predict(test_x)\n",
    "        #  mse = mean_squared_error(test_y, preds)\n",
    "        #  r2 = r2_score(test_y, preds)\n",
    "         (rmse , mae , r2) = self.evaluation_metric(test_y , preds )\n",
    "\n",
    "         scores = { 'rmse':rmse ,'mae': mae ,'r2' : r2}\n",
    "         save_json(path = Path(self.config.metric_file_name), data = scores)\n",
    "    # Log parameters, metrics, and model\n",
    "         mlflow.log_param('all params',self.config.all_params)\n",
    "         mlflow.log_metric(\"mae\", mae)\n",
    "         mlflow.log_metric(\"r2\", r2)\n",
    "         mlflow.log_metric(\"rmse\", rmse)\n",
    "\n",
    "         if tracking_uri_type_store != 'file':\n",
    "            mlflow.sklearn.log_model(model, \"model\" , registered_model_name='ElasticNet model')\n",
    "         else:    \n",
    "           print(\"Run logged in MLflow.\")\n",
    "\n",
    "\n"
   ]
  },
  {
   "cell_type": "code",
   "execution_count": 21,
   "id": "11f982a6",
   "metadata": {},
   "outputs": [
    {
     "name": "stdout",
     "output_type": "stream",
     "text": [
      "[DEBUG] Trying to load YAML from: /Users/satwiksahoo/Desktop/CodeBasics/machine learning/krish naik/1st_project/data_science_project/config/config.yaml | Exists: True\n",
      "[2025-07-02 12:54:15,247 : INFO : common : YAML file: /Users/satwiksahoo/Desktop/CodeBasics/machine learning/krish naik/1st_project/data_science_project/config/config.yaml loaded successfully.]\n",
      "[DEBUG] Trying to load YAML from: /Users/satwiksahoo/Desktop/CodeBasics/machine learning/krish naik/1st_project/data_science_project/params.yaml | Exists: True\n",
      "[2025-07-02 12:54:15,249 : INFO : common : YAML file: /Users/satwiksahoo/Desktop/CodeBasics/machine learning/krish naik/1st_project/data_science_project/params.yaml loaded successfully.]\n",
      "[DEBUG] Trying to load YAML from: /Users/satwiksahoo/Desktop/CodeBasics/machine learning/krish naik/1st_project/data_science_project/schema.yaml | Exists: True\n",
      "[2025-07-02 12:54:15,251 : INFO : common : YAML file: /Users/satwiksahoo/Desktop/CodeBasics/machine learning/krish naik/1st_project/data_science_project/schema.yaml loaded successfully.]\n",
      "[2025-07-02 12:54:15,252 : INFO : common : Directory created at: artifacts]\n",
      "[2025-07-02 12:54:15,252 : INFO : common : Directory created at: artifacts/model_evaluation]\n",
      "[2025-07-02 12:54:15,272 : INFO : common : JSON file saved at: artifacts/model_evaluation/metrics.json]\n",
      "Run logged in MLflow.\n"
     ]
    }
   ],
   "source": [
    "try:\n",
    "    config = configmanager() \n",
    "    model_evaluation_config = config.get_model_evaluation_config()\n",
    "    model_evaluation = model_evaluation(config=model_evaluation_config) \n",
    "    model_evaluation.log_into_mlflow()\n",
    "\n",
    "\n",
    "\n",
    "   \n",
    "  \n",
    "\n",
    "except Exception as e:\n",
    "   raise e    "
   ]
  },
  {
   "cell_type": "code",
   "execution_count": null,
   "id": "c8826714",
   "metadata": {},
   "outputs": [],
   "source": []
  }
 ],
 "metadata": {
  "kernelspec": {
   "display_name": "Python 3",
   "language": "python",
   "name": "python3"
  },
  "language_info": {
   "codemirror_mode": {
    "name": "ipython",
    "version": 3
   },
   "file_extension": ".py",
   "mimetype": "text/x-python",
   "name": "python",
   "nbconvert_exporter": "python",
   "pygments_lexer": "ipython3",
   "version": "3.10.0"
  }
 },
 "nbformat": 4,
 "nbformat_minor": 5
}
